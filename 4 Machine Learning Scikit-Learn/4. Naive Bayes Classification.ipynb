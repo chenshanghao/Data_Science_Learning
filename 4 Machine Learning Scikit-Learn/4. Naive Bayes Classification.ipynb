{
 "cells": [
  {
   "cell_type": "markdown",
   "metadata": {},
   "source": [
    "#### 1. Naive Bayes Description"
   ]
  },
  {
   "cell_type": "markdown",
   "metadata": {},
   "source": [
    "Suitable for: **very high-dimensional datasets.**\n",
    "Reason:\n",
    "\n",
    "1. fast\n",
    "\n",
    "2. few tunable parameters\n",
    "\n",
    "3. end up being very useful as a quick-and-dirty baseline for a classification problem"
   ]
  },
  {
   "cell_type": "markdown",
   "metadata": {},
   "source": [
    "#### 2. When to Use Naive Bayes\n"
   ]
  },
  {
   "cell_type": "markdown",
   "metadata": {},
   "source": [
    "That said, they have several advantages:\n",
    "\n",
    "1. They are **extremely fast** for both training and prediction\n",
    "\n",
    "2. They provide **straightforward probabilistic prediction**\n",
    "\n",
    "3. They are often very **easily interpretable**\n",
    "\n",
    "4. They have very few (if any) **tunable parameters**\n",
    "\n",
    "These **advantages** mean a naive Bayesian classifier is often **a good choice** as **an initial baseline classification**. If it performs suitably, then congratulations: you have a very fast, very interpretable classifier for your problem. If it does not perform well, then you can begin exploring more sophisticated models, with some baseline knowledge of how well they should perform."
   ]
  },
  {
   "cell_type": "markdown",
   "metadata": {},
   "source": [
    "Naive Bayes classifiers tend to perform especially well in one of the following situations:\n",
    "\n",
    "1. When the **naive assumptions** actually match the data (very rare in practice)\n",
    "\n",
    "2. For very **well-separated categories**, when model complexity is less important\n",
    "\n",
    "3. For very **high-dimensional data**, when model complexity is less important\n",
    "\n",
    "The last two points seem distinct, but they actually are **related**: \n",
    "\n",
    "as the **dimension of a dataset grows**, it is much less likely for any two points to be found close together (after all, they must be close in every single dimension to be close overall). This means that clusters in high dimensions tend to be more separated, on average, than clusters in low dimensions, assuming the new dimensions actually add information. For this reason, **simplistic classifiers** like naive Bayes tend to work as well or better than more complicated classifiers as the dimensionality grows: once you have enough data, even a simple model can be very powerful."
   ]
  },
  {
   "cell_type": "code",
   "execution_count": null,
   "metadata": {},
   "outputs": [],
   "source": []
  },
  {
   "cell_type": "code",
   "execution_count": 2,
   "metadata": {},
   "outputs": [],
   "source": [
    "%matplotlib inline\n",
    "import numpy as np\n",
    "import matplotlib.pyplot as plt\n",
    "import seaborn as sns; sns.set()"
   ]
  },
  {
   "cell_type": "markdown",
   "metadata": {},
   "source": [
    "## Gaussian Naive Bayes\n"
   ]
  },
  {
   "cell_type": "code",
   "execution_count": null,
   "metadata": {},
   "outputs": [],
   "source": []
  }
 ],
 "metadata": {
  "kernelspec": {
   "display_name": "Python 3",
   "language": "python",
   "name": "python3"
  },
  "language_info": {
   "codemirror_mode": {
    "name": "ipython",
    "version": 3
   },
   "file_extension": ".py",
   "mimetype": "text/x-python",
   "name": "python",
   "nbconvert_exporter": "python",
   "pygments_lexer": "ipython3",
   "version": "3.6.4"
  }
 },
 "nbformat": 4,
 "nbformat_minor": 2
}
